version https://git-lfs.github.com/spec/v1
oid sha256:adc7fae6ce6c3c4426c1d6bd5799f0f8c8d0c3b6cf0fddb7797a13dc62a1a4f4
size 6685802

version https://git-lfs.github.com/spec/v1
oid sha256:9c24acde318e7ba120344433f9a27541fade980dd06682646f15a1eccd3f8df1
size 19070

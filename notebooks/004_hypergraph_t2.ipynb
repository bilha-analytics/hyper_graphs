version https://git-lfs.github.com/spec/v1
oid sha256:ef42157b2ce87fad1ef6ce0257feb19b6e1fced78b17e510321515244ea8e82e
size 22911940
